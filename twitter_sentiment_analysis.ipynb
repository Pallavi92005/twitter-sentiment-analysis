{
 "cells": [
  {
   "cell_type": "code",
   "execution_count": 3,
   "id": "2fab7a85-b468-4162-951d-30f91b8d1a20",
   "metadata": {},
   "outputs": [
    {
     "name": "stdout",
     "output_type": "stream",
     "text": [
      "🔍 Sample Dataset:\n"
     ]
    },
    {
     "data": {
      "text/html": [
       "<div>\n",
       "<style scoped>\n",
       "    .dataframe tbody tr th:only-of-type {\n",
       "        vertical-align: middle;\n",
       "    }\n",
       "\n",
       "    .dataframe tbody tr th {\n",
       "        vertical-align: top;\n",
       "    }\n",
       "\n",
       "    .dataframe thead th {\n",
       "        text-align: right;\n",
       "    }\n",
       "</style>\n",
       "<table border=\"1\" class=\"dataframe\">\n",
       "  <thead>\n",
       "    <tr style=\"text-align: right;\">\n",
       "      <th></th>\n",
       "      <th>text</th>\n",
       "      <th>sentiment</th>\n",
       "    </tr>\n",
       "  </thead>\n",
       "  <tbody>\n",
       "    <tr>\n",
       "      <th>0</th>\n",
       "      <td>I love the new iPhone camera! 📸</td>\n",
       "      <td>positive</td>\n",
       "    </tr>\n",
       "    <tr>\n",
       "      <th>1</th>\n",
       "      <td>This phone is too expensive.</td>\n",
       "      <td>negative</td>\n",
       "    </tr>\n",
       "    <tr>\n",
       "      <th>2</th>\n",
       "      <td>Not bad but could be better.</td>\n",
       "      <td>neutral</td>\n",
       "    </tr>\n",
       "    <tr>\n",
       "      <th>3</th>\n",
       "      <td>Amazing performance and battery life! 🔋</td>\n",
       "      <td>positive</td>\n",
       "    </tr>\n",
       "    <tr>\n",
       "      <th>4</th>\n",
       "      <td>I hate the new update. It's slow.</td>\n",
       "      <td>negative</td>\n",
       "    </tr>\n",
       "    <tr>\n",
       "      <th>5</th>\n",
       "      <td>Just an average phone.</td>\n",
       "      <td>neutral</td>\n",
       "    </tr>\n",
       "  </tbody>\n",
       "</table>\n",
       "</div>"
      ],
      "text/plain": [
       "                                      text sentiment\n",
       "0          I love the new iPhone camera! 📸  positive\n",
       "1             This phone is too expensive.  negative\n",
       "2             Not bad but could be better.   neutral\n",
       "3  Amazing performance and battery life! 🔋  positive\n",
       "4        I hate the new update. It's slow.  negative\n",
       "5                   Just an average phone.   neutral"
      ]
     },
     "metadata": {},
     "output_type": "display_data"
    }
   ],
   "source": [
    "# Step 1: Import necessary libraries\n",
    "import pandas as pd\n",
    "\n",
    "# Step 2: Create the dataset\n",
    "data = {\n",
    "    'text': [\n",
    "        \"I love the new iPhone camera! 📸\",\n",
    "        \"This phone is too expensive.\",\n",
    "        \"Not bad but could be better.\",\n",
    "        \"Amazing performance and battery life! 🔋\",\n",
    "        \"I hate the new update. It's slow.\",\n",
    "        \"Just an average phone.\"\n",
    "    ],\n",
    "    'sentiment': [\n",
    "        \"positive\",\n",
    "        \"negative\",\n",
    "        \"neutral\",\n",
    "        \"positive\",\n",
    "        \"negative\",\n",
    "        \"neutral\"\n",
    "    ]\n",
    "}\n",
    "\n",
    "df = pd.DataFrame(data)\n",
    "\n",
    "# Step 3: Show the dataset\n",
    "print(\"🔍 Sample Dataset:\")\n",
    "display(df)  # display works nicely in Jupyter\n"
   ]
  },
  {
   "cell_type": "code",
   "execution_count": 8,
   "id": "f91bf6bd-6473-4a1c-b01b-ad4879540dcf",
   "metadata": {},
   "outputs": [],
   "source": [
    "import seaborn as sns\n"
   ]
  },
  {
   "cell_type": "code",
   "execution_count": 12,
   "id": "ab0d84df-cf18-4743-9f64-9412bf0985ba",
   "metadata": {},
   "outputs": [
    {
     "name": "stdout",
     "output_type": "stream",
     "text": [
      "Requirement already satisfied: scikit-learn in c:\\users\\jhapr\\appdata\\local\\programs\\python\\python313\\lib\\site-packages (1.7.0)\n",
      "Requirement already satisfied: numpy>=1.22.0 in c:\\users\\jhapr\\appdata\\local\\programs\\python\\python313\\lib\\site-packages (from scikit-learn) (2.3.1)\n",
      "Requirement already satisfied: scipy>=1.8.0 in c:\\users\\jhapr\\appdata\\local\\programs\\python\\python313\\lib\\site-packages (from scikit-learn) (1.16.0)\n",
      "Requirement already satisfied: joblib>=1.2.0 in c:\\users\\jhapr\\appdata\\local\\programs\\python\\python313\\lib\\site-packages (from scikit-learn) (1.5.1)\n",
      "Requirement already satisfied: threadpoolctl>=3.1.0 in c:\\users\\jhapr\\appdata\\local\\programs\\python\\python313\\lib\\site-packages (from scikit-learn) (3.6.0)\n"
     ]
    }
   ],
   "source": [
    "!pip install scikit-learn\n"
   ]
  },
  {
   "cell_type": "code",
   "execution_count": 16,
   "id": "1197384b-677d-4ee4-af6d-be58e8dfdc09",
   "metadata": {},
   "outputs": [
    {
     "data": {
      "text/plain": [
       "<Axes: xlabel='sentiment', ylabel='count'>"
      ]
     },
     "execution_count": 16,
     "metadata": {},
     "output_type": "execute_result"
    },
    {
     "data": {
      "image/png": "[encoded data removed]",
      "text/plain": [
       "<Figure size 640x480 with 1 Axes>"
      ]
     },
     "metadata": {},
     "output_type": "display_data"
    }
   ],
   "source": [
    "sns.countplot(x='sentiment',hue='sentiment',data=df,palette='pastel',legend=False)"
   ]
  },
  {
   "cell_type": "code",
   "execution_count": 25,
   "id": "21edca62-fea3-40ff-beca-c0ce7e6699ec",
   "metadata": {},
   "outputs": [
    {
     "name": "stdout",
     "output_type": "stream",
     "text": [
      "              precision    recall  f1-score   support\n",
      "\n",
      "    negative       0.00      0.00      0.00       1.0\n",
      "     neutral       0.00      0.00      0.00       0.0\n",
      "    positive       0.00      0.00      0.00       1.0\n",
      "\n",
      "    accuracy                           0.00       2.0\n",
      "   macro avg       0.00      0.00      0.00       2.0\n",
      "weighted avg       0.00      0.00      0.00       2.0\n",
      "\n"
     ]
    }
   ],
   "source": [
    "print(classification_report(y_test,y_pred,zero_division=0))"
   ]
  },
  {
   "cell_type": "code",
   "execution_count": 44,
   "id": "b3b382b8-77a6-4463-8337-663b59d1b6ad",
   "metadata": {},
   "outputs": [
    {
     "name": "stdout",
     "output_type": "stream",
     "text": [
      "sentiment\n",
      "positive    2\n",
      "neutral     2\n",
      "negative    2\n",
      "Name: count, dtype: int64\n"
     ]
    }
   ],
   "source": [
    "import pandas as pd \n",
    "from sklearn.utils import resample\n",
    "\n",
    "#Separate classes\n",
    "df_positive=df[df['sentiment']=='positive']\n",
    "df_negative=df[df['sentiment']=='negative']\n",
    "df_neutral=df[df['sentiment']=='neutral']\n",
    "\n",
    "#Upsample minority classes\n",
    "df_negative_upsampled=resample(df_negative,replace=True,n_samples=len(df_positive),random_state=42)\n",
    "df_neutral_upsampled=resample(df_neutral,replace=True,n_samples=len(df_positive),random_state=42)\n",
    "\n",
    "#Combine all into one balanced dataframe\n",
    "df_balanced=pd.concat([df_positive,df_negative_upsampled,df_neutral_upsampled])\n",
    "\n",
    "#Shuffle the data\n",
    "df_balanced=df_balanced.sample(frac=1,random_state=42).reset_index(drop=True)\n",
    "\n",
    "#Check new balanced class counts\n",
    "print(df_balanced['sentiment'].value_counts())\n"
   ]
  },
  {
   "cell_type": "code",
   "execution_count": 46,
   "id": "f9c2c375-d5a4-4e26-984c-ccc3cc9cbc46",
   "metadata": {},
   "outputs": [
    {
     "name": "stdout",
     "output_type": "stream",
     "text": [
      "'This phone is fantastic!' ➡️ neutral\n",
      "'Terrible battery life!' ➡️ positive\n",
      "'It's okay, not great.' ➡️ neutral\n"
     ]
    }
   ],
   "source": [
    "# Predict custom input\n",
    "sample_text = [\"This phone is fantastic!\", \"Terrible battery life!\", \"It's okay, not great.\"]\n",
    "predicted_sentiments = model.predict(sample_text)\n",
    "\n",
    "# Display results\n",
    "for text, sentiment in zip(sample_text, predicted_sentiments):\n",
    "    print(f\"'{text}' ➡️ {sentiment}\")\n"
   ]
  },
  {
   "cell_type": "code",
   "execution_count": null,
   "id": "73b2e248-dca1-44e1-834b-ba04e373bf3d",
   "metadata": {},
   "outputs": [],
   "source": []
  }
 ],
 "metadata": {
  "kernelspec": {
   "display_name": "Python (myenv)",
   "language": "python",
   "name": "myenv"
  },
  "language_info": {
   "codemirror_mode": {
    "name": "ipython",
    "version": 3
   },
   "file_extension": ".py",
   "mimetype": "text/x-python",
   "name": "python",
   "nbconvert_exporter": "python",
   "pygments_lexer": "ipython3",
   "version": "3.13.5"
  }
 },
 "nbformat": 4,
 "nbformat_minor": 5
}
